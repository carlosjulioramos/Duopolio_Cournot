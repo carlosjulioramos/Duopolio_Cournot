{
  "nbformat": 4,
  "nbformat_minor": 0,
  "metadata": {
    "colab": {
      "provenance": []
    },
    "kernelspec": {
      "name": "python3",
      "display_name": "Python 3"
    },
    "language_info": {
      "name": "python"
    }
  },
  "cells": [
    {
      "cell_type": "code",
      "execution_count": null,
      "metadata": {
        "id": "JLI8ubOElkg-"
      },
      "outputs": [],
      "source": [
        "#Modelo del sistema de ecuaciones en diferencia lineales\n",
        "#de primer orden de la Teoría de Cournot del Duopolio\n",
        "\n",
        "#Autores\n",
        "#Fredy Ricardo Medina Cuzpoca\n",
        "#Edgar Antonio Pinto Cruz\n",
        "#Carlos Julio Ramos Ramos\n",
        "\n",
        "#Proyecto final del módulo de Modelación Discreta\n",
        "\n",
        "#Profesor\n",
        "#Iván Darío Ladino Vega\n",
        "\n",
        "#Fundación Universitaria Los Libertadores\n",
        "#Facultad de Ingeniería y Ciencias Básicas\n",
        "#Especialización en Matemática Aplicada\n",
        "#Bogotá, D.C. octubre de 2022"
      ]
    },
    {
      "cell_type": "code",
      "source": [
        "import numpy as np\n",
        "import sympy as sp\n",
        "import math\n",
        "import matplotlib.pyplot as plt"
      ],
      "metadata": {
        "id": "-naZeGgDopKE"
      },
      "execution_count": null,
      "outputs": []
    },
    {
      "cell_type": "code",
      "source": [
        "#print(\"Ingrese todas las funciones sustituyendo 'x por q1(k)' y 'y por q2(k)'\")\n",
        "x,y = sp.symbols(\"x,y\")\n",
        "print(\"Las funciones de Precio (PA), de Costos (C1, C2) y de Producción (q1, q2)\")\n",
        "print(\"se deben ingresar sustituyendo 'x por de q1(k)' y 'y por de q2(k)'\")\n",
        "print(\"\\n\")\n",
        "\n",
        "print(\"PA = 100-0.5*(x+y) para el ejemplo 1\")\n",
        "PA = input(\"Ingrese la función de precio PA(x,y) = \")\n",
        "print(\"p(k) = \",PA)\n",
        "print(\"\\n\")\n",
        "print(\"q1(k) = x para el ejemplo 1\")\n",
        "print(\"q2(k) = y para el ejemplo 1\")\n",
        "x1= input(\"Ingrese la función de producción de la E1, q1(k)(x,y) = \")\n",
        "y1= input(\"Ingrese la función de producción de la E2, q2(k)(x,y) = \")\n",
        "print(\"q1(k) = \",x1)\n",
        "print(\"q2(k) = \",y1)\n",
        "print(\"\\n\")\n",
        "print(\"C1(k) = 5*x para el ejemplo 1\")\n",
        "print(\"C2(k) = 0.5*y**2 para el ejemplo 1\")\n",
        "C1 = input(\"Ingrese la función de costos de E1 C1(k)(x,y) = \")\n",
        "C2 = input(\"Ingrese la función de costos de E2 C2(k)(x,y) = \")\n",
        "print(\"C1(k) = \",C1)\n",
        "print(\"C2(k) = \",C2)\n",
        "print(\"\\n\")\n"
      ],
      "metadata": {
        "colab": {
          "base_uri": "https://localhost:8080/"
        },
        "id": "atst5KgYo25m",
        "outputId": "4aa386bb-cd5c-4f58-e959-f3c4ff6cb245"
      },
      "execution_count": null,
      "outputs": [
        {
          "output_type": "stream",
          "name": "stdout",
          "text": [
            "Las funciones de Precio (PA), de Costos (C1, C2) y de Producción (q1, q2)\n",
            "se deben ingresar sustituyendo 'x por de q1(k)' y 'y por de q2(k)'\n",
            "\n",
            "\n",
            "PA = 100-0.5*(x+y) para el ejemplo 1\n",
            "Ingrese la función de precio PA(x,y) = 100-0.5*(x+y)\n",
            "p(k) =  100-0.5*(x+y)\n",
            "\n",
            "\n",
            "q1(k) = x para el ejemplo 1\n",
            "q2(k) = y para el ejemplo 1\n",
            "Ingrese la función de producción de la E1, q1(k)(x,y) = x\n",
            "Ingrese la función de producción de la E2, q2(k)(x,y) = y\n",
            "q1(k) =  x\n",
            "q2(k) =  y\n",
            "\n",
            "\n",
            "C1(k) = 5*x para el ejemplo 1\n",
            "C2(k) = 0.5*y**2 para el ejemplo 1\n",
            "Ingrese la función de costos de E1 C1(k)(x,y) = 5*x\n",
            "Ingrese la función de costos de E2 C2(k)(x,y) = 0.5*y**2\n",
            "C1(k) =  5*x\n",
            "C2(k) =  0.5*y**2\n",
            "\n",
            "\n"
          ]
        }
      ]
    },
    {
      "cell_type": "code",
      "source": [
        "#Definición de variables y operaciones\n",
        "PAsp = sp.Poly(PA)\n",
        "xsp = sp.Poly(x1)\n",
        "ysp = sp.Poly(y1)\n",
        "\n",
        "def mult_1(PA,x1):\n",
        "  return(PA*x1)\n",
        "def mult_2(PA,y1):\n",
        "  return(PA*y1)\n",
        "\n",
        "print(\"Funciones de Ingreso de las Empresas 1 y 2\")\n",
        "In1 = mult_1(PAsp,xsp)\n",
        "print(\"In1 = p(k)*q1(k) = \",In1)\n",
        "In2 = mult_2(PAsp,ysp)\n",
        "print(\"In2 = p(k)*q2(k) = \",In2)\n",
        "print(\"\\n\")\n",
        "print(\"Funciones de Beneficios de las Empresas 1 y 2\")\n",
        "In1sp = sp.Poly(In1)\n",
        "In2sp = sp.Poly(In2)\n",
        "C1sp = sp.Poly(C1)\n",
        "C2sp = sp.Poly(C2)\n",
        "\n",
        "def res_1(In1,C1):\n",
        "  return(In1-C1)\n",
        "\n",
        "def res_2(In2,C2):\n",
        "  return(In2-C2)\n",
        "\n",
        "B1 = res_1(In1sp,C1sp)\n",
        "print(\"B1(k) = \",B1)\n",
        "B2 = res_2(In2sp,C2sp)\n",
        "print(\"B2(k) = \",B2)\n",
        "print(\"\\n\")\n",
        "\n",
        "print(\"Funciones que maximizan los Beneficios de las empresas 1 y 2\")\n",
        "print(\"o Funciones de Reacción de las empresas 1 y 2\") \n",
        "B1max = sp.diff(B1,x)\n",
        "print(\"B1(k+1) = \",B1max)\n",
        "B2max = sp.diff(B2,y)\n",
        "print(\"B2(k+1) = \",B2max)\n",
        "print(\"\\n\")\n",
        "B1max1=B1max\n",
        "B2max2=B2max\n",
        "qi = sp.solve([B1max1,B2max2],(x,y))\n",
        "print(\"Las cantidades de equilibrio son:\")\n",
        "print(qi)\n",
        "print(\"\\n\")\n"
      ],
      "metadata": {
        "colab": {
          "base_uri": "https://localhost:8080/"
        },
        "id": "ZNFhSs7R2eoB",
        "outputId": "8ab9b6eb-4989-4876-e0be-3b7b523bdcaf"
      },
      "execution_count": null,
      "outputs": [
        {
          "output_type": "stream",
          "name": "stdout",
          "text": [
            "Funciones de Ingreso de las Empresas 1 y 2\n",
            "In1 = p(k)*q1(k) =  Poly(-0.5*x**2 - 0.5*x*y + 100.0*x, x, y, domain='RR')\n",
            "In2 = p(k)*q2(k) =  Poly(-0.5*x*y - 0.5*y**2 + 100.0*y, x, y, domain='RR')\n",
            "\n",
            "\n",
            "Funciones de Beneficios de las Empresas 1 y 2\n",
            "B1(k) =  Poly(-0.5*x**2 - 0.5*x*y + 95.0*x, x, y, domain='RR')\n",
            "B2(k) =  Poly(-0.5*x*y - 1.0*y**2 + 100.0*y, x, y, domain='RR')\n",
            "\n",
            "\n",
            "Funciones que maximizan los Beneficios de las empresas 1 y 2\n",
            "o Funciones de Reacción de las empresas 1 y 2\n",
            "B1(k+1) =  Poly(-1.0*x - 0.5*y + 95.0, x, y, domain='RR')\n",
            "B2(k+1) =  Poly(-0.5*x - 2.0*y + 100.0, x, y, domain='RR')\n",
            "\n",
            "\n",
            "Las cantidades de equilibrio son:\n",
            "{x: 80.0000000000000, y: 30.0000000000000}\n",
            "\n",
            "\n"
          ]
        }
      ]
    },
    {
      "cell_type": "code",
      "source": [
        "#Gráfica de la Producción de Equilibrio de las dos empresas E1 y E2\n",
        "#Despeje y escriba y en función de x de las Funciones de Reacción\n",
        "print(\"Despeje la variable 'y' de las dos funciones de reacción\")\n",
        "print(\"Y1 = \",B1max1)\n",
        "print(\"Y2 = \",B2max2)\n",
        "print(\"y1 = -2*x + 190 para el ejemplo 1\")\n",
        "print(\"y2 = -0.25*x + 50 para el ejemplo 1\")\n",
        "\n",
        "x = np.linspace(0,200,500)\n",
        "#Escriba y1, y2 en función de x para definir las ecuaciones de la gráfica\n",
        "\n",
        "m1=input(\"Ingrese la pendiente de la FR de la E1 m1:\")\n",
        "print(m1)\n",
        "m1=float(m1)\n",
        "m2=input(\"Ingrese la pendiente de la FR de la E2 m2:\")\n",
        "print(m2)\n",
        "m2=float(m2)\n",
        "b1=input(\"Ingrese la constante de la FR de la E1 b1:\")\n",
        "print(b1)\n",
        "b1=float(b1)\n",
        "b2=input(\"Ingrese la constante de la FR de la E2 b2:\")\n",
        "print(b2)\n",
        "b2=float(b2)\n",
        "\n",
        "y_1=m1*x+b1\n",
        "y_2=m2*x+b2\n",
        "\n",
        "#y_1 = -4*x+170\n",
        "#y_2 = -0.125*x+25\n",
        "plt.plot(x, y_1) \n",
        "plt.plot(x, y_2) \n",
        "plt.xlabel('q1') \n",
        "plt.ylabel('q2') \n",
        "plt.title(\"Producción de Equilibrio\") \n",
        "plt.xticks(np.arange(0, 200, 20)) \n",
        "plt.yticks(np.arange(0, 200, 15)) \n",
        "plt.legend(['Beneficio de la E1','Beneficio de la E2']) \n",
        "plt.xlim(0, 200) \n",
        "plt.ylim(0, 200) \n",
        "plt.grid(True) \n",
        "plt.show()"
      ],
      "metadata": {
        "colab": {
          "base_uri": "https://localhost:8080/"
        },
        "id": "YjOaPe3bB-3s",
        "outputId": "4061d0ff-7e8d-444d-ce5c-4d4ecd6d0f3e"
      },
      "execution_count": null,
      "outputs": [
        {
          "output_type": "stream",
          "name": "stdout",
          "text": [
            "Despeje la variable 'y' de las dos funciones de reacción\n",
            "Y1 =  Poly(-1.0*x - 0.5*y + 95.0, x, y, domain='RR')\n",
            "Y2 =  Poly(-0.5*x - 2.0*y + 100.0, x, y, domain='RR')\n",
            "y1 = -2*x + 190 para el ejemplo 1\n",
            "y2 = -0.25*x + 50 para el ejemplo 1\n"
          ]
        }
      ]
    },
    {
      "cell_type": "code",
      "source": [
        "from sympy.matrices import eigen\n",
        "from numpy.linalg.linalg import eig\n",
        "from numpy.linalg import eigvals\n",
        "#Construcción de la Matriz de Estado A y \n",
        "#obtención de la Matriz de Transición A^k \n",
        "print(\"B1(k+1) = \",B1max)\n",
        "print(\"B2(k+1) = \",B2max)\n",
        "\n",
        "print(\"Los coeficientes de A deben tener los mismos signos\")\n",
        "print(\"Deben tener los mismos signos\")\n",
        "print(\"Ingrese los coeficientes de la Matriz A\") \n",
        "a11 = input(\"a11 = \")\n",
        "a12 = input(\"a12 = \")\n",
        "a21 = input(\"a21 = \")\n",
        "a22 = input(\"a22 = \")\n",
        "print(\"\\n\")\n",
        "\n",
        "A = sp.Matrix([[a11,a12],[a21,a22]])\n",
        "print(\"Matriz A\")\n",
        "sp.pprint(A)\n",
        "print(\"\\n\")\n",
        "a11=float(a11)\n",
        "a12=float(a12)\n",
        "a21=float(a21)\n",
        "a22=float(a22)\n",
        "print(\"Eigenvalores de A\")\n",
        "m = np.array([[a11, a12],[a21, a22]])\n",
        "x, v = np.linalg.eig(m)\n",
        "\n",
        "λ1 = x[0]\n",
        "λ2 = x[1]\n",
        "print('λ1 = ',x[0])\n",
        "print('λ2 = ',x[1])\n",
        "print(\"\\n\")\n",
        "\n",
        "# La Matriz Solución A^k\n",
        "k = sp.symbols('^k')\n",
        "Ak = sp.Matrix([[λ1,0],[0, λ2]])\n",
        "print(\"La Matriz Solución A^K es: \\n\")\n",
        "sp.pprint(k*Ak)\n",
        "print(\"\\n\")\n",
        "\n",
        "# kpar = sp.symbols('^2k')\n",
        "print(\"La Matriz Solución para periodos pares A^K es: \\n\")\n",
        "Akpar = Ak**2\n",
        "sp.pprint(k*Akpar)"
      ],
      "metadata": {
        "id": "q3i8Igpd4haU"
      },
      "execution_count": null,
      "outputs": []
    }
  ]
}